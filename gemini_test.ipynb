{
 "cells": [
  {
   "cell_type": "code",
   "execution_count": 1,
   "metadata": {},
   "outputs": [
    {
     "name": "stdout",
     "output_type": "stream",
     "text": [
      "Collecting google-cloud-aiplatform>=1.38\n",
      "  Downloading google_cloud_aiplatform-1.42.1-py2.py3-none-any.whl.metadata (27 kB)\n",
      "Collecting google-api-core!=2.0.*,!=2.1.*,!=2.2.*,!=2.3.*,!=2.4.*,!=2.5.*,!=2.6.*,!=2.7.*,<3.0.0dev,>=1.34.1 (from google-api-core[grpc]!=2.0.*,!=2.1.*,!=2.2.*,!=2.3.*,!=2.4.*,!=2.5.*,!=2.6.*,!=2.7.*,<3.0.0dev,>=1.34.1->google-cloud-aiplatform>=1.38)\n",
      "  Downloading google_api_core-2.17.1-py3-none-any.whl.metadata (2.7 kB)\n",
      "Collecting google-auth<3.0.0dev,>=2.14.1 (from google-cloud-aiplatform>=1.38)\n",
      "  Downloading google_auth-2.28.1-py2.py3-none-any.whl.metadata (4.7 kB)\n",
      "Collecting proto-plus<2.0.0dev,>=1.22.0 (from google-cloud-aiplatform>=1.38)\n",
      "  Downloading proto_plus-1.23.0-py3-none-any.whl.metadata (2.2 kB)\n",
      "Collecting protobuf!=3.20.0,!=3.20.1,!=4.21.0,!=4.21.1,!=4.21.2,!=4.21.3,!=4.21.4,!=4.21.5,<5.0.0dev,>=3.19.5 (from google-cloud-aiplatform>=1.38)\n",
      "  Downloading protobuf-4.25.3-cp310-abi3-win_amd64.whl.metadata (541 bytes)\n",
      "Requirement already satisfied: packaging>=14.3 in c:\\users\\maddie.fuchs_atrium\\miniconda3\\envs\\snowpark-ml-hol\\lib\\site-packages (from google-cloud-aiplatform>=1.38) (23.1)\n",
      "Collecting google-cloud-storage<3.0.0dev,>=1.32.0 (from google-cloud-aiplatform>=1.38)\n",
      "  Downloading google_cloud_storage-2.14.0-py2.py3-none-any.whl.metadata (6.1 kB)\n",
      "Collecting google-cloud-bigquery<4.0.0dev,>=1.15.0 (from google-cloud-aiplatform>=1.38)\n",
      "  Downloading google_cloud_bigquery-3.17.2-py2.py3-none-any.whl.metadata (8.8 kB)\n",
      "Collecting google-cloud-resource-manager<3.0.0dev,>=1.3.3 (from google-cloud-aiplatform>=1.38)\n",
      "  Downloading google_cloud_resource_manager-1.12.2-py2.py3-none-any.whl.metadata (5.3 kB)\n",
      "Collecting shapely<3.0.0dev (from google-cloud-aiplatform>=1.38)\n",
      "  Downloading shapely-2.0.3-cp311-cp311-win_amd64.whl.metadata (7.2 kB)\n",
      "Collecting googleapis-common-protos<2.0.dev0,>=1.56.2 (from google-api-core!=2.0.*,!=2.1.*,!=2.2.*,!=2.3.*,!=2.4.*,!=2.5.*,!=2.6.*,!=2.7.*,<3.0.0dev,>=1.34.1->google-api-core[grpc]!=2.0.*,!=2.1.*,!=2.2.*,!=2.3.*,!=2.4.*,!=2.5.*,!=2.6.*,!=2.7.*,<3.0.0dev,>=1.34.1->google-cloud-aiplatform>=1.38)\n",
      "  Downloading googleapis_common_protos-1.62.0-py2.py3-none-any.whl.metadata (1.5 kB)\n",
      "Requirement already satisfied: requests<3.0.0.dev0,>=2.18.0 in c:\\users\\maddie.fuchs_atrium\\miniconda3\\envs\\snowpark-ml-hol\\lib\\site-packages (from google-api-core!=2.0.*,!=2.1.*,!=2.2.*,!=2.3.*,!=2.4.*,!=2.5.*,!=2.6.*,!=2.7.*,<3.0.0dev,>=1.34.1->google-api-core[grpc]!=2.0.*,!=2.1.*,!=2.2.*,!=2.3.*,!=2.4.*,!=2.5.*,!=2.6.*,!=2.7.*,<3.0.0dev,>=1.34.1->google-cloud-aiplatform>=1.38) (2.31.0)\n",
      "Collecting grpcio<2.0dev,>=1.33.2 (from google-api-core[grpc]!=2.0.*,!=2.1.*,!=2.2.*,!=2.3.*,!=2.4.*,!=2.5.*,!=2.6.*,!=2.7.*,<3.0.0dev,>=1.34.1->google-cloud-aiplatform>=1.38)\n",
      "  Downloading grpcio-1.62.0-cp311-cp311-win_amd64.whl.metadata (4.2 kB)\n",
      "Collecting grpcio-status<2.0.dev0,>=1.33.2 (from google-api-core[grpc]!=2.0.*,!=2.1.*,!=2.2.*,!=2.3.*,!=2.4.*,!=2.5.*,!=2.6.*,!=2.7.*,<3.0.0dev,>=1.34.1->google-cloud-aiplatform>=1.38)\n",
      "  Downloading grpcio_status-1.62.0-py3-none-any.whl.metadata (1.3 kB)\n",
      "Requirement already satisfied: cachetools<6.0,>=2.0.0 in c:\\users\\maddie.fuchs_atrium\\miniconda3\\envs\\snowpark-ml-hol\\lib\\site-packages (from google-auth<3.0.0dev,>=2.14.1->google-cloud-aiplatform>=1.38) (4.2.2)\n",
      "Collecting pyasn1-modules>=0.2.1 (from google-auth<3.0.0dev,>=2.14.1->google-cloud-aiplatform>=1.38)\n",
      "  Downloading pyasn1_modules-0.3.0-py2.py3-none-any.whl.metadata (3.6 kB)\n",
      "Collecting rsa<5,>=3.1.4 (from google-auth<3.0.0dev,>=2.14.1->google-cloud-aiplatform>=1.38)\n",
      "  Downloading rsa-4.9-py3-none-any.whl.metadata (4.2 kB)\n",
      "Collecting google-cloud-core<3.0.0dev,>=1.6.0 (from google-cloud-bigquery<4.0.0dev,>=1.15.0->google-cloud-aiplatform>=1.38)\n",
      "  Downloading google_cloud_core-2.4.1-py2.py3-none-any.whl.metadata (2.7 kB)\n",
      "Collecting google-resumable-media<3.0dev,>=0.6.0 (from google-cloud-bigquery<4.0.0dev,>=1.15.0->google-cloud-aiplatform>=1.38)\n",
      "  Downloading google_resumable_media-2.7.0-py2.py3-none-any.whl.metadata (2.2 kB)\n",
      "Requirement already satisfied: python-dateutil<3.0dev,>=2.7.2 in c:\\users\\maddie.fuchs_atrium\\miniconda3\\envs\\snowpark-ml-hol\\lib\\site-packages (from google-cloud-bigquery<4.0.0dev,>=1.15.0->google-cloud-aiplatform>=1.38) (2.8.3+snowflake1)\n",
      "Collecting grpc-google-iam-v1<1.0.0dev,>=0.12.4 (from google-cloud-resource-manager<3.0.0dev,>=1.3.3->google-cloud-aiplatform>=1.38)\n",
      "  Downloading grpc_google_iam_v1-0.13.0-py2.py3-none-any.whl.metadata (3.3 kB)\n",
      "Collecting google-crc32c<2.0dev,>=1.0 (from google-cloud-storage<3.0.0dev,>=1.32.0->google-cloud-aiplatform>=1.38)\n",
      "  Downloading google_crc32c-1.5.0-cp311-cp311-win_amd64.whl.metadata (2.3 kB)\n",
      "Requirement already satisfied: numpy<2,>=1.14 in c:\\users\\maddie.fuchs_atrium\\miniconda3\\envs\\snowpark-ml-hol\\lib\\site-packages (from shapely<3.0.0dev->google-cloud-aiplatform>=1.38) (1.24.3)\n",
      "Collecting pyasn1<0.6.0,>=0.4.6 (from pyasn1-modules>=0.2.1->google-auth<3.0.0dev,>=2.14.1->google-cloud-aiplatform>=1.38)\n",
      "  Downloading pyasn1-0.5.1-py2.py3-none-any.whl.metadata (8.6 kB)\n",
      "Requirement already satisfied: six>=1.5 in c:\\users\\maddie.fuchs_atrium\\miniconda3\\envs\\snowpark-ml-hol\\lib\\site-packages (from python-dateutil<3.0dev,>=2.7.2->google-cloud-bigquery<4.0.0dev,>=1.15.0->google-cloud-aiplatform>=1.38) (1.16.0)\n",
      "Requirement already satisfied: charset-normalizer<4,>=2 in c:\\users\\maddie.fuchs_atrium\\miniconda3\\envs\\snowpark-ml-hol\\lib\\site-packages (from requests<3.0.0.dev0,>=2.18.0->google-api-core!=2.0.*,!=2.1.*,!=2.2.*,!=2.3.*,!=2.4.*,!=2.5.*,!=2.6.*,!=2.7.*,<3.0.0dev,>=1.34.1->google-api-core[grpc]!=2.0.*,!=2.1.*,!=2.2.*,!=2.3.*,!=2.4.*,!=2.5.*,!=2.6.*,!=2.7.*,<3.0.0dev,>=1.34.1->google-cloud-aiplatform>=1.38) (2.0.4)\n",
      "Requirement already satisfied: idna<4,>=2.5 in c:\\users\\maddie.fuchs_atrium\\miniconda3\\envs\\snowpark-ml-hol\\lib\\site-packages (from requests<3.0.0.dev0,>=2.18.0->google-api-core!=2.0.*,!=2.1.*,!=2.2.*,!=2.3.*,!=2.4.*,!=2.5.*,!=2.6.*,!=2.7.*,<3.0.0dev,>=1.34.1->google-api-core[grpc]!=2.0.*,!=2.1.*,!=2.2.*,!=2.3.*,!=2.4.*,!=2.5.*,!=2.6.*,!=2.7.*,<3.0.0dev,>=1.34.1->google-cloud-aiplatform>=1.38) (3.4)\n",
      "Requirement already satisfied: urllib3<3,>=1.21.1 in c:\\users\\maddie.fuchs_atrium\\miniconda3\\envs\\snowpark-ml-hol\\lib\\site-packages (from requests<3.0.0.dev0,>=2.18.0->google-api-core!=2.0.*,!=2.1.*,!=2.2.*,!=2.3.*,!=2.4.*,!=2.5.*,!=2.6.*,!=2.7.*,<3.0.0dev,>=1.34.1->google-api-core[grpc]!=2.0.*,!=2.1.*,!=2.2.*,!=2.3.*,!=2.4.*,!=2.5.*,!=2.6.*,!=2.7.*,<3.0.0dev,>=1.34.1->google-cloud-aiplatform>=1.38) (2.0.7)\n",
      "Requirement already satisfied: certifi>=2017.4.17 in c:\\users\\maddie.fuchs_atrium\\miniconda3\\envs\\snowpark-ml-hol\\lib\\site-packages (from requests<3.0.0.dev0,>=2.18.0->google-api-core!=2.0.*,!=2.1.*,!=2.2.*,!=2.3.*,!=2.4.*,!=2.5.*,!=2.6.*,!=2.7.*,<3.0.0dev,>=1.34.1->google-api-core[grpc]!=2.0.*,!=2.1.*,!=2.2.*,!=2.3.*,!=2.4.*,!=2.5.*,!=2.6.*,!=2.7.*,<3.0.0dev,>=1.34.1->google-cloud-aiplatform>=1.38) (2023.11.17)\n",
      "Downloading google_cloud_aiplatform-1.42.1-py2.py3-none-any.whl (3.5 MB)\n",
      "   ---------------------------------------- 0.0/3.5 MB ? eta -:--:--\n",
      "   - -------------------------------------- 0.1/3.5 MB 3.6 MB/s eta 0:00:01\n",
      "   ----------- ---------------------------- 1.0/3.5 MB 12.3 MB/s eta 0:00:01\n",
      "   --------------------------- ------------ 2.4/3.5 MB 18.8 MB/s eta 0:00:01\n",
      "   ---------------------------------------  3.5/3.5 MB 24.9 MB/s eta 0:00:01\n",
      "   ---------------------------------------- 3.5/3.5 MB 20.4 MB/s eta 0:00:00\n",
      "Downloading google_api_core-2.17.1-py3-none-any.whl (137 kB)\n",
      "   ---------------------------------------- 0.0/137.0 kB ? eta -:--:--\n",
      "   ---------------------------------------- 137.0/137.0 kB 8.5 MB/s eta 0:00:00\n",
      "Downloading google_auth-2.28.1-py2.py3-none-any.whl (186 kB)\n",
      "   ---------------------------------------- 0.0/186.9 kB ? eta -:--:--\n",
      "   --------------------------------------- 186.9/186.9 kB 11.0 MB/s eta 0:00:00\n",
      "Downloading google_cloud_bigquery-3.17.2-py2.py3-none-any.whl (230 kB)\n",
      "   ---------------------------------------- 0.0/230.3 kB ? eta -:--:--\n",
      "   ---------------------------------------- 230.3/230.3 kB ? eta 0:00:00\n",
      "Downloading google_cloud_resource_manager-1.12.2-py2.py3-none-any.whl (333 kB)\n",
      "   ---------------------------------------- 0.0/333.7 kB ? eta -:--:--\n",
      "   ---------------------------------------- 333.7/333.7 kB ? eta 0:00:00\n",
      "Downloading google_cloud_storage-2.14.0-py2.py3-none-any.whl (121 kB)\n",
      "   ---------------------------------------- 0.0/121.6 kB ? eta -:--:--\n",
      "   ---------------------------------------- 121.6/121.6 kB ? eta 0:00:00\n",
      "Downloading proto_plus-1.23.0-py3-none-any.whl (48 kB)\n",
      "   ---------------------------------------- 0.0/48.8 kB ? eta -:--:--\n",
      "   ---------------------------------------- 48.8/48.8 kB ? eta 0:00:00\n",
      "Downloading protobuf-4.25.3-cp310-abi3-win_amd64.whl (413 kB)\n",
      "   ---------------------------------------- 0.0/413.4 kB ? eta -:--:--\n",
      "   --------------------------------------- 413.4/413.4 kB 26.9 MB/s eta 0:00:00\n",
      "Downloading shapely-2.0.3-cp311-cp311-win_amd64.whl (1.4 MB)\n",
      "   ---------------------------------------- 0.0/1.4 MB ? eta -:--:--\n",
      "   ---------------------------------------- 1.4/1.4 MB 46.1 MB/s eta 0:00:00\n",
      "Downloading google_cloud_core-2.4.1-py2.py3-none-any.whl (29 kB)\n",
      "Downloading google_crc32c-1.5.0-cp311-cp311-win_amd64.whl (27 kB)\n",
      "Downloading google_resumable_media-2.7.0-py2.py3-none-any.whl (80 kB)\n",
      "   ---------------------------------------- 0.0/80.6 kB ? eta -:--:--\n",
      "   ---------------------------------------- 80.6/80.6 kB ? eta 0:00:00\n",
      "Downloading googleapis_common_protos-1.62.0-py2.py3-none-any.whl (228 kB)\n",
      "   ---------------------------------------- 0.0/228.7 kB ? eta -:--:--\n",
      "   ---------------------------------------- 228.7/228.7 kB ? eta 0:00:00\n",
      "Downloading grpc_google_iam_v1-0.13.0-py2.py3-none-any.whl (25 kB)\n",
      "Downloading grpcio-1.62.0-cp311-cp311-win_amd64.whl (3.8 MB)\n",
      "   ---------------------------------------- 0.0/3.8 MB ? eta -:--:--\n",
      "   ------------------------------- -------- 3.0/3.8 MB 62.7 MB/s eta 0:00:01\n",
      "   ---------------------------------------  3.8/3.8 MB 48.3 MB/s eta 0:00:01\n",
      "   ---------------------------------------- 3.8/3.8 MB 30.2 MB/s eta 0:00:00\n",
      "Downloading grpcio_status-1.62.0-py3-none-any.whl (14 kB)\n",
      "Downloading pyasn1_modules-0.3.0-py2.py3-none-any.whl (181 kB)\n",
      "   ---------------------------------------- 0.0/181.3 kB ? eta -:--:--\n",
      "   --------------------------------------- 181.3/181.3 kB 10.7 MB/s eta 0:00:00\n",
      "Downloading rsa-4.9-py3-none-any.whl (34 kB)\n",
      "Downloading pyasn1-0.5.1-py2.py3-none-any.whl (84 kB)\n",
      "   ---------------------------------------- 0.0/84.9 kB ? eta -:--:--\n",
      "   ---------------------------------------- 84.9/84.9 kB 4.7 MB/s eta 0:00:00\n",
      "Installing collected packages: shapely, pyasn1, protobuf, grpcio, google-crc32c, rsa, pyasn1-modules, proto-plus, googleapis-common-protos, google-resumable-media, grpcio-status, google-auth, grpc-google-iam-v1, google-api-core, google-cloud-core, google-cloud-storage, google-cloud-resource-manager, google-cloud-bigquery, google-cloud-aiplatform\n",
      "Successfully installed google-api-core-2.17.1 google-auth-2.28.1 google-cloud-aiplatform-1.42.1 google-cloud-bigquery-3.17.2 google-cloud-core-2.4.1 google-cloud-resource-manager-1.12.2 google-cloud-storage-2.14.0 google-crc32c-1.5.0 google-resumable-media-2.7.0 googleapis-common-protos-1.62.0 grpc-google-iam-v1-0.13.0 grpcio-1.62.0 grpcio-status-1.62.0 proto-plus-1.23.0 protobuf-4.25.3 pyasn1-0.5.1 pyasn1-modules-0.3.0 rsa-4.9 shapely-2.0.3\n",
      "Note: you may need to restart the kernel to use updated packages.\n"
     ]
    }
   ],
   "source": [
    "pip install \"google-cloud-aiplatform>=1.38\""
   ]
  },
  {
   "cell_type": "code",
   "execution_count": 15,
   "metadata": {},
   "outputs": [
    {
     "name": "stdout",
     "output_type": "stream",
     "text": [
      "Streamlit is an open-source Python library that provides a simple and fast way to build custom and interactive data apps for dashboards, data exploration, and machine learning (ML) prototyping.\n",
      "\n",
      "**Key Features:**\n",
      "\n",
      "* **Rapid App Development:** Enables rapid prototyping and iterative development of data apps.\n",
      "* **Interactive User Interface:** Provides built-in widgets for creating interactive dashboards, data visualizations, and user input forms.\n",
      "* **Code Embedding:** Allows developers to embed Python code and scripts directly into their apps.\n",
      "* **Real-Time Updates:** Supports real-time data updates and interactive exploration.\n",
      "* **Cloud Deployment:** Integrates with cloud platforms like Heroku, AWS, and GCP for easy deployment and scaling.\n",
      "* **Customization:** Offers extensive customization options for app appearance, functionality, and user experience.\n",
      "* **Open Source:** Freely available under the MIT license, encouraging community contributions and collaboration.\n",
      "\n",
      "**Typical Use Cases:**\n",
      "\n",
      "* Building dashboards for data visualization and monitoring\n",
      "* Creating interactive data exploration tools\n",
      "* Prototyping ML models and algorithms\n",
      "* Developing user-friendly interfaces for data analysis and modeling\n",
      "* Sharing data insights and visualizations with stakeholders\n",
      "**Why is the sky blue?**\n",
      "\n",
      "The sky appears blue due to a phenomenon called Rayleigh scattering. This occurs when sunlight, which is composed of all colors in the visible spectrum, passes through the Earth's atmosphere.\n",
      "\n",
      "* **Shorter wavelengths (blue light) are scattered more effectively than longer wavelengths (red light).** This is because the molecules in the atmosphere are much smaller than the wavelengths of visible light. Blue light has a shorter wavelength than red light, so it interacts more with these molecules and is scattered in all directions.\n",
      "* **The scattered blue light reaches our eyes from all directions, making the sky appear blue.** This is why the sky looks blue even when the sun is not directly overhead.\n",
      "* **At sunset and sunrise, the sunlight has to travel through more of the atmosphere to reach our eyes.** This means that more of the blue light is scattered away, and more of the longer wavelengths (red, orange, and yellow) reach our eyes. This is why the sky appears red, orange, or yellow at these times.\n",
      "\n",
      "In summary, the sky is blue because blue light is scattered more effectively by the molecules in the Earth's atmosphere. This scattered blue light reaches our eyes from all directions, making the sky appear blue.\n"
     ]
    }
   ],
   "source": [
    "from vertexai.generative_models import GenerativeModel, ChatSession\n",
    "\n",
    "# TODO(developer): Update and un-comment below lines\n",
    "project_id = \"quantum-backup-415716\"\n",
    "location = \"us-central1\"\n",
    "vertexai.init(project=project_id, location=location)\n",
    "model = GenerativeModel(\"gemini-1.0-pro\")\n",
    "chat = model.start_chat()\n",
    "\n",
    "def get_chat_response(chat: ChatSession, prompt: str) -> str:\n",
    "    text_response = []\n",
    "    responses = chat.send_message(prompt, stream=True)\n",
    "    for chunk in responses:\n",
    "        text_response.append(chunk.text)\n",
    "    return \"\".join(text_response)\n",
    "\n",
    "prompt = \"What is Streamlit?\"\n",
    "print(get_chat_response(chat, prompt))\n",
    "\n",
    "\n",
    "prompt = '{\"contents\": {\"role\": \"USER\",\"parts\": { \"text\": \"Why is the sky blue?\" }}}'\n",
    "\n",
    "print(get_chat_response(chat,prompt))\n",
    "#prompt = \"What are all the colors in a rainbow?\"\n",
    "#print(get_chat_response(chat, prompt))\n",
    "\n",
    "#prompt = \"Why does it appear when it rains?\"\n",
    "#print(get_chat_response(chat, prompt))"
   ]
  },
  {
   "cell_type": "code",
   "execution_count": 9,
   "metadata": {},
   "outputs": [],
   "source": [
    "import pandas as pd\n",
    "data = {\"calories\": [\"big\", \"Med\", \"Sml\"], \"duration\": [50, 40, 45]}\n",
    "\n",
    "# load data into a DataFrame object:\n",
    "df = pd.DataFrame(data)"
   ]
  },
  {
   "cell_type": "code",
   "execution_count": 16,
   "metadata": {},
   "outputs": [
    {
     "data": {
      "text/plain": [
       "'calories'"
      ]
     },
     "execution_count": 16,
     "metadata": {},
     "output_type": "execute_result"
    },
    {
     "ename": "",
     "evalue": "",
     "output_type": "error",
     "traceback": [
      "\u001b[1;31mThe Kernel crashed while executing code in the the current cell or a previous cell. Please review the code in the cell(s) to identify a possible cause of the failure. Click <a href='https://aka.ms/vscodeJupyterKernelCrash'>here</a> for more info. View Jupyter <a href='command:jupyter.viewOutput'>log</a> for further details."
     ]
    }
   ],
   "source": [
    "list(df.columns)[0]"
   ]
  },
  {
   "cell_type": "code",
   "execution_count": null,
   "metadata": {},
   "outputs": [],
   "source": []
  }
 ],
 "metadata": {
  "kernelspec": {
   "display_name": "Python 3",
   "language": "python",
   "name": "python3"
  },
  "language_info": {
   "codemirror_mode": {
    "name": "ipython",
    "version": 3
   },
   "file_extension": ".py",
   "mimetype": "text/x-python",
   "name": "python",
   "nbconvert_exporter": "python",
   "pygments_lexer": "ipython3",
   "version": "3.11.7"
  }
 },
 "nbformat": 4,
 "nbformat_minor": 2
}
